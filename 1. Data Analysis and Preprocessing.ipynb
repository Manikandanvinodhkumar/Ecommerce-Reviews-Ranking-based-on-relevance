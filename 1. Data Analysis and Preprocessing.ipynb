{
 "cells": [
  {
   "cell_type": "code",
   "execution_count": 9,
   "metadata": {},
   "outputs": [],
   "source": [
    "%%capture\n",
    "!python3 -m spacy download en_core_web_sm\n",
    "!python3 -m textblob.download_corpora"
   ]
  },
  {
   "cell_type": "code",
   "execution_count": 31,
   "metadata": {},
   "outputs": [],
   "source": [
    "sys.path.insert(0, 'C:\\\\Users\\\\manik\\\\Documents\\\\online_Courses\\\\projects\\\\ecommerce\\\\ReviewRanking')\n"
   ]
  },
  {
   "cell_type": "code",
   "execution_count": 42,
   "metadata": {},
   "outputs": [
    {
     "data": {
      "text/plain": [
       "['C:\\\\Users\\\\manik\\\\Documents\\\\online_Courses\\\\projects\\\\ecommerce\\\\ReviewRanking',\n",
       " 'C:\\\\Users\\\\manik\\\\Documents\\\\online_Courses\\\\projects\\\\ecommerce\\\\ReviewRanking',\n",
       " 'C:\\\\Users\\\\manik\\\\Documents\\\\online_Courses\\\\projects\\\\ecommerce\\\\ReviewRanking',\n",
       " 'C:\\\\Users\\\\manik\\\\Documents\\\\online_Courses\\\\projects\\\\ecommerce\\\\ReviewRanking',\n",
       " 'C:\\\\Users\\\\manik\\\\Anaconda3\\\\python37.zip',\n",
       " 'C:\\\\Users\\\\manik\\\\Anaconda3\\\\DLLs',\n",
       " 'C:\\\\Users\\\\manik\\\\Anaconda3\\\\lib',\n",
       " 'C:\\\\Users\\\\manik\\\\Anaconda3',\n",
       " '',\n",
       " 'C:\\\\Users\\\\manik\\\\Anaconda3\\\\lib\\\\site-packages',\n",
       " 'C:\\\\Users\\\\manik\\\\Anaconda3\\\\lib\\\\site-packages\\\\win32',\n",
       " 'C:\\\\Users\\\\manik\\\\Anaconda3\\\\lib\\\\site-packages\\\\win32\\\\lib',\n",
       " 'C:\\\\Users\\\\manik\\\\Anaconda3\\\\lib\\\\site-packages\\\\Pythonwin',\n",
       " 'C:\\\\Users\\\\manik\\\\Anaconda3\\\\lib\\\\site-packages\\\\IPython\\\\extensions',\n",
       " 'C:\\\\Users\\\\manik\\\\.ipython',\n",
       " './utils',\n",
       " './utils',\n",
       " './/utils',\n",
       " './/utils',\n",
       " './utils',\n",
       " './utils']"
      ]
     },
     "execution_count": 42,
     "metadata": {},
     "output_type": "execute_result"
    }
   ],
   "source": [
    "sys.path"
   ]
  },
  {
   "cell_type": "code",
   "execution_count": 15,
   "metadata": {},
   "outputs": [],
   "source": [
    "from utils import review_feature"
   ]
  },
  {
   "cell_type": "code",
   "execution_count": 29,
   "metadata": {},
   "outputs": [],
   "source": [
    "import pandas as pd\n",
    "import numpy as np\n",
    "from matplotlib import pyplot as plt\n",
    "from pylab import rcParams\n",
    "rcParams['figure.figsize'] = 7, 6\n",
    "\n",
    "from copy import deepcopy\n",
    "import seaborn as sns\n",
    "\n"
   ]
  },
  {
   "cell_type": "code",
   "execution_count": 35,
   "metadata": {},
   "outputs": [],
   "source": [
    "sys.path.append('./utils')\n"
   ]
  },
  {
   "cell_type": "code",
   "execution_count": 11,
   "metadata": {},
   "outputs": [
    {
     "data": {
      "text/plain": [
       "['C:\\\\Users\\\\manik\\\\Documents\\\\online_Courses\\\\projects\\\\ecommerce\\\\ReviewRanking',\n",
       " 'C:\\\\Users\\\\manik\\\\Anaconda3\\\\python37.zip',\n",
       " 'C:\\\\Users\\\\manik\\\\Anaconda3\\\\DLLs',\n",
       " 'C:\\\\Users\\\\manik\\\\Anaconda3\\\\lib',\n",
       " 'C:\\\\Users\\\\manik\\\\Anaconda3',\n",
       " '',\n",
       " 'C:\\\\Users\\\\manik\\\\Anaconda3\\\\lib\\\\site-packages',\n",
       " 'C:\\\\Users\\\\manik\\\\Anaconda3\\\\lib\\\\site-packages\\\\win32',\n",
       " 'C:\\\\Users\\\\manik\\\\Anaconda3\\\\lib\\\\site-packages\\\\win32\\\\lib',\n",
       " 'C:\\\\Users\\\\manik\\\\Anaconda3\\\\lib\\\\site-packages\\\\Pythonwin',\n",
       " 'C:\\\\Users\\\\manik\\\\Anaconda3\\\\lib\\\\site-packages\\\\IPython\\\\extensions',\n",
       " 'C:\\\\Users\\\\manik\\\\.ipython',\n",
       " './utils',\n",
       " './utils',\n",
       " './utils',\n",
       " './utils',\n",
       " './utils',\n",
       " './utils']"
      ]
     },
     "execution_count": 11,
     "metadata": {},
     "output_type": "execute_result"
    }
   ],
   "source": [
    "sys.path"
   ]
  },
  {
   "cell_type": "code",
   "execution_count": 30,
   "metadata": {},
   "outputs": [],
   "source": [
    "import sys\n",
    "sys.path.append('./utils')\n",
    "from utils import review_feature\n",
    "rf = review_feature()\n",
    "%matplotlib inline"
   ]
  },
  {
   "cell_type": "code",
   "execution_count": 4,
   "metadata": {},
   "outputs": [
    {
     "data": {
      "text/plain": [
       "<utils.review_feature at 0x24b62ab2748>"
      ]
     },
     "execution_count": 4,
     "metadata": {},
     "output_type": "execute_result"
    }
   ],
   "source": []
  },
  {
   "cell_type": "code",
   "execution_count": 3,
   "metadata": {},
   "outputs": [
    {
     "name": "stderr",
     "output_type": "stream",
     "text": [
      "'ls' is not recognized as an internal or external command,\n",
      "operable program or batch file.\n"
     ]
    }
   ],
   "source": [
    "!ls data"
   ]
  },
  {
   "cell_type": "code",
   "execution_count": 31,
   "metadata": {},
   "outputs": [],
   "source": [
    "df = pd.read_csv('data/train.csv')"
   ]
  },
  {
   "cell_type": "code",
   "execution_count": 32,
   "metadata": {},
   "outputs": [
    {
     "data": {
      "text/html": [
       "<div>\n",
       "<style scoped>\n",
       "    .dataframe tbody tr th:only-of-type {\n",
       "        vertical-align: middle;\n",
       "    }\n",
       "\n",
       "    .dataframe tbody tr th {\n",
       "        vertical-align: top;\n",
       "    }\n",
       "\n",
       "    .dataframe thead th {\n",
       "        text-align: right;\n",
       "    }\n",
       "</style>\n",
       "<table border=\"1\" class=\"dataframe\">\n",
       "  <thead>\n",
       "    <tr style=\"text-align: right;\">\n",
       "      <th></th>\n",
       "      <th>product</th>\n",
       "      <th>answer_option</th>\n",
       "      <th>label</th>\n",
       "    </tr>\n",
       "  </thead>\n",
       "  <tbody>\n",
       "    <tr>\n",
       "      <td>0</td>\n",
       "      <td>Accucheck</td>\n",
       "      <td>Fast and accurate delivery</td>\n",
       "      <td>0</td>\n",
       "    </tr>\n",
       "    <tr>\n",
       "      <td>1</td>\n",
       "      <td>Accucheck</td>\n",
       "      <td>As usual it is genuine</td>\n",
       "      <td>0</td>\n",
       "    </tr>\n",
       "    <tr>\n",
       "      <td>2</td>\n",
       "      <td>Accucheck</td>\n",
       "      <td>Behavior of delivery boy is very bad. Delivery...</td>\n",
       "      <td>0</td>\n",
       "    </tr>\n",
       "    <tr>\n",
       "      <td>3</td>\n",
       "      <td>Accucheck</td>\n",
       "      <td>fwegwrqdsdvwfg</td>\n",
       "      <td>0</td>\n",
       "    </tr>\n",
       "    <tr>\n",
       "      <td>4</td>\n",
       "      <td>Accucheck</td>\n",
       "      <td>These strips were as per my requirment</td>\n",
       "      <td>0</td>\n",
       "    </tr>\n",
       "    <tr>\n",
       "      <td>...</td>\n",
       "      <td>...</td>\n",
       "      <td>...</td>\n",
       "      <td>...</td>\n",
       "    </tr>\n",
       "    <tr>\n",
       "      <td>1671</td>\n",
       "      <td>Accucheck</td>\n",
       "      <td>Ft GM</td>\n",
       "      <td>0</td>\n",
       "    </tr>\n",
       "    <tr>\n",
       "      <td>1672</td>\n",
       "      <td>Accucheck</td>\n",
       "      <td>I like</td>\n",
       "      <td>0</td>\n",
       "    </tr>\n",
       "    <tr>\n",
       "      <td>1673</td>\n",
       "      <td>Accucheck</td>\n",
       "      <td>Nice price with long expiry</td>\n",
       "      <td>0</td>\n",
       "    </tr>\n",
       "    <tr>\n",
       "      <td>1674</td>\n",
       "      <td>Accucheck</td>\n",
       "      <td>Price &amp; Service</td>\n",
       "      <td>0</td>\n",
       "    </tr>\n",
       "    <tr>\n",
       "      <td>1675</td>\n",
       "      <td>Accucheck</td>\n",
       "      <td>Good discount</td>\n",
       "      <td>0</td>\n",
       "    </tr>\n",
       "  </tbody>\n",
       "</table>\n",
       "<p>1676 rows × 3 columns</p>\n",
       "</div>"
      ],
      "text/plain": [
       "        product                                      answer_option  label\n",
       "0     Accucheck                         Fast and accurate delivery      0\n",
       "1     Accucheck                            As usual it is genuine       0\n",
       "2     Accucheck  Behavior of delivery boy is very bad. Delivery...      0\n",
       "3     Accucheck                                     fwegwrqdsdvwfg      0\n",
       "4     Accucheck             These strips were as per my requirment      0\n",
       "...         ...                                                ...    ...\n",
       "1671  Accucheck                                              Ft GM      0\n",
       "1672  Accucheck                                             I like      0\n",
       "1673  Accucheck                        Nice price with long expiry      0\n",
       "1674  Accucheck                                    Price & Service      0\n",
       "1675  Accucheck                                      Good discount      0\n",
       "\n",
       "[1676 rows x 3 columns]"
      ]
     },
     "execution_count": 32,
     "metadata": {},
     "output_type": "execute_result"
    }
   ],
   "source": [
    "df"
   ]
  },
  {
   "cell_type": "markdown",
   "metadata": {},
   "source": [
    "## Analysis to understand per product who many informative and how many not informative reviews are there. "
   ]
  },
  {
   "cell_type": "code",
   "execution_count": 33,
   "metadata": {},
   "outputs": [
    {
     "data": {
      "text/html": [
       "<div>\n",
       "<style scoped>\n",
       "    .dataframe tbody tr th:only-of-type {\n",
       "        vertical-align: middle;\n",
       "    }\n",
       "\n",
       "    .dataframe tbody tr th {\n",
       "        vertical-align: top;\n",
       "    }\n",
       "\n",
       "    .dataframe thead th {\n",
       "        text-align: right;\n",
       "    }\n",
       "</style>\n",
       "<table border=\"1\" class=\"dataframe\">\n",
       "  <thead>\n",
       "    <tr style=\"text-align: right;\">\n",
       "      <th>label</th>\n",
       "      <th>0</th>\n",
       "      <th>1</th>\n",
       "      <th>All</th>\n",
       "    </tr>\n",
       "    <tr>\n",
       "      <th>product</th>\n",
       "      <th></th>\n",
       "      <th></th>\n",
       "      <th></th>\n",
       "    </tr>\n",
       "  </thead>\n",
       "  <tbody>\n",
       "    <tr>\n",
       "      <td>Accucheck</td>\n",
       "      <td>317</td>\n",
       "      <td>85</td>\n",
       "      <td>402</td>\n",
       "    </tr>\n",
       "    <tr>\n",
       "      <td>Becadexamin</td>\n",
       "      <td>53</td>\n",
       "      <td>27</td>\n",
       "      <td>80</td>\n",
       "    </tr>\n",
       "    <tr>\n",
       "      <td>Evion</td>\n",
       "      <td>89</td>\n",
       "      <td>33</td>\n",
       "      <td>122</td>\n",
       "    </tr>\n",
       "    <tr>\n",
       "      <td>Neurobion</td>\n",
       "      <td>286</td>\n",
       "      <td>137</td>\n",
       "      <td>423</td>\n",
       "    </tr>\n",
       "    <tr>\n",
       "      <td>SevenseascodLiverOil</td>\n",
       "      <td>60</td>\n",
       "      <td>22</td>\n",
       "      <td>82</td>\n",
       "    </tr>\n",
       "    <tr>\n",
       "      <td>Shelcal</td>\n",
       "      <td>262</td>\n",
       "      <td>126</td>\n",
       "      <td>388</td>\n",
       "    </tr>\n",
       "    <tr>\n",
       "      <td>Supradyn</td>\n",
       "      <td>50</td>\n",
       "      <td>23</td>\n",
       "      <td>73</td>\n",
       "    </tr>\n",
       "    <tr>\n",
       "      <td>shampoo</td>\n",
       "      <td>57</td>\n",
       "      <td>49</td>\n",
       "      <td>106</td>\n",
       "    </tr>\n",
       "    <tr>\n",
       "      <td>All</td>\n",
       "      <td>1174</td>\n",
       "      <td>502</td>\n",
       "      <td>1676</td>\n",
       "    </tr>\n",
       "  </tbody>\n",
       "</table>\n",
       "</div>"
      ],
      "text/plain": [
       "label                    0    1   All\n",
       "product                              \n",
       "Accucheck              317   85   402\n",
       "Becadexamin             53   27    80\n",
       "Evion                   89   33   122\n",
       "Neurobion              286  137   423\n",
       "SevenseascodLiverOil    60   22    82\n",
       "Shelcal                262  126   388\n",
       "Supradyn                50   23    73\n",
       "shampoo                 57   49   106\n",
       "All                   1174  502  1676"
      ]
     },
     "execution_count": 33,
     "metadata": {},
     "output_type": "execute_result"
    }
   ],
   "source": [
    "label_analysis = pd.crosstab(df['product'],df['label'], margins='All')\n",
    "label_analysis"
   ]
  },
  {
   "cell_type": "code",
   "execution_count": 34,
   "metadata": {},
   "outputs": [
    {
     "data": {
      "text/plain": [
       "<matplotlib.axes._subplots.AxesSubplot at 0x24b6bb0b198>"
      ]
     },
     "execution_count": 34,
     "metadata": {},
     "output_type": "execute_result"
    },
    {
     "data": {
      "image/png": "[encoded data removed]",
      "text/plain": [
       "<Figure size 432x288 with 1 Axes>"
      ]
     },
     "metadata": {
      "needs_background": "light"
     },
     "output_type": "display_data"
    }
   ],
   "source": [
    "analysis = label_analysis.reset_index()\n",
    "analysis.columns = ['product','not info', 'info', 'All']\n",
    "analysis.iloc[:-1].plot(x=\"product\", y=[\"not info\", \"info\"], kind=\"bar\")"
   ]
  },
  {
   "cell_type": "markdown",
   "metadata": {},
   "source": [
    "## Lets check the length quality of reviews we have?"
   ]
  },
  {
   "cell_type": "code",
   "execution_count": 35,
   "metadata": {},
   "outputs": [],
   "source": [
    "df['review_len'] = df['answer_option'].apply(lambda x: len(x.split()))"
   ]
  },
  {
   "cell_type": "code",
   "execution_count": 36,
   "metadata": {},
   "outputs": [
    {
     "data": {
      "text/html": [
       "<div>\n",
       "<style scoped>\n",
       "    .dataframe tbody tr th:only-of-type {\n",
       "        vertical-align: middle;\n",
       "    }\n",
       "\n",
       "    .dataframe tbody tr th {\n",
       "        vertical-align: top;\n",
       "    }\n",
       "\n",
       "    .dataframe thead th {\n",
       "        text-align: right;\n",
       "    }\n",
       "</style>\n",
       "<table border=\"1\" class=\"dataframe\">\n",
       "  <thead>\n",
       "    <tr style=\"text-align: right;\">\n",
       "      <th></th>\n",
       "      <th>product</th>\n",
       "      <th>answer_option</th>\n",
       "      <th>label</th>\n",
       "      <th>review_len</th>\n",
       "    </tr>\n",
       "  </thead>\n",
       "  <tbody>\n",
       "    <tr>\n",
       "      <td>0</td>\n",
       "      <td>Accucheck</td>\n",
       "      <td>Fast and accurate delivery</td>\n",
       "      <td>0</td>\n",
       "      <td>4</td>\n",
       "    </tr>\n",
       "    <tr>\n",
       "      <td>1</td>\n",
       "      <td>Accucheck</td>\n",
       "      <td>As usual it is genuine</td>\n",
       "      <td>0</td>\n",
       "      <td>5</td>\n",
       "    </tr>\n",
       "    <tr>\n",
       "      <td>2</td>\n",
       "      <td>Accucheck</td>\n",
       "      <td>Behavior of delivery boy is very bad. Delivery...</td>\n",
       "      <td>0</td>\n",
       "      <td>20</td>\n",
       "    </tr>\n",
       "    <tr>\n",
       "      <td>3</td>\n",
       "      <td>Accucheck</td>\n",
       "      <td>fwegwrqdsdvwfg</td>\n",
       "      <td>0</td>\n",
       "      <td>1</td>\n",
       "    </tr>\n",
       "    <tr>\n",
       "      <td>4</td>\n",
       "      <td>Accucheck</td>\n",
       "      <td>These strips were as per my requirment</td>\n",
       "      <td>0</td>\n",
       "      <td>7</td>\n",
       "    </tr>\n",
       "    <tr>\n",
       "      <td>...</td>\n",
       "      <td>...</td>\n",
       "      <td>...</td>\n",
       "      <td>...</td>\n",
       "      <td>...</td>\n",
       "    </tr>\n",
       "    <tr>\n",
       "      <td>1671</td>\n",
       "      <td>Accucheck</td>\n",
       "      <td>Ft GM</td>\n",
       "      <td>0</td>\n",
       "      <td>2</td>\n",
       "    </tr>\n",
       "    <tr>\n",
       "      <td>1672</td>\n",
       "      <td>Accucheck</td>\n",
       "      <td>I like</td>\n",
       "      <td>0</td>\n",
       "      <td>2</td>\n",
       "    </tr>\n",
       "    <tr>\n",
       "      <td>1673</td>\n",
       "      <td>Accucheck</td>\n",
       "      <td>Nice price with long expiry</td>\n",
       "      <td>0</td>\n",
       "      <td>5</td>\n",
       "    </tr>\n",
       "    <tr>\n",
       "      <td>1674</td>\n",
       "      <td>Accucheck</td>\n",
       "      <td>Price &amp; Service</td>\n",
       "      <td>0</td>\n",
       "      <td>3</td>\n",
       "    </tr>\n",
       "    <tr>\n",
       "      <td>1675</td>\n",
       "      <td>Accucheck</td>\n",
       "      <td>Good discount</td>\n",
       "      <td>0</td>\n",
       "      <td>2</td>\n",
       "    </tr>\n",
       "  </tbody>\n",
       "</table>\n",
       "<p>1676 rows × 4 columns</p>\n",
       "</div>"
      ],
      "text/plain": [
       "        product                                      answer_option  label  \\\n",
       "0     Accucheck                         Fast and accurate delivery      0   \n",
       "1     Accucheck                            As usual it is genuine       0   \n",
       "2     Accucheck  Behavior of delivery boy is very bad. Delivery...      0   \n",
       "3     Accucheck                                     fwegwrqdsdvwfg      0   \n",
       "4     Accucheck             These strips were as per my requirment      0   \n",
       "...         ...                                                ...    ...   \n",
       "1671  Accucheck                                              Ft GM      0   \n",
       "1672  Accucheck                                             I like      0   \n",
       "1673  Accucheck                        Nice price with long expiry      0   \n",
       "1674  Accucheck                                    Price & Service      0   \n",
       "1675  Accucheck                                      Good discount      0   \n",
       "\n",
       "      review_len  \n",
       "0              4  \n",
       "1              5  \n",
       "2             20  \n",
       "3              1  \n",
       "4              7  \n",
       "...          ...  \n",
       "1671           2  \n",
       "1672           2  \n",
       "1673           5  \n",
       "1674           3  \n",
       "1675           2  \n",
       "\n",
       "[1676 rows x 4 columns]"
      ]
     },
     "execution_count": 36,
     "metadata": {},
     "output_type": "execute_result"
    }
   ],
   "source": [
    "df"
   ]
  },
  {
   "cell_type": "code",
   "execution_count": 37,
   "metadata": {},
   "outputs": [],
   "source": [
    "checklen = []\n",
    "for i in range(5,50, 5):\n",
    "    checklen.append(len(df[ (df['review_len']>=i-5) & (df['review_len']<i)]))"
   ]
  },
  {
   "cell_type": "code",
   "execution_count": 38,
   "metadata": {},
   "outputs": [
    {
     "data": {
      "text/plain": [
       "[780, 603, 149, 65, 29, 22, 9, 6, 3]"
      ]
     },
     "execution_count": 38,
     "metadata": {},
     "output_type": "execute_result"
    }
   ],
   "source": [
    "checklen"
   ]
  },
  {
   "cell_type": "code",
   "execution_count": 39,
   "metadata": {},
   "outputs": [
    {
     "data": {
      "image/png": "[encoded data removed]",
      "text/plain": [
       "<Figure size 432x288 with 1 Axes>"
      ]
     },
     "metadata": {
      "needs_background": "light"
     },
     "output_type": "display_data"
    }
   ],
   "source": [
    "index = np.arange(len(checklen))\n",
    "plt.bar(index, checklen)\n",
    "plt.xlabel('Length of a Review', fontsize=15)\n",
    "plt.ylabel('No. of Reviews', fontsize=15)\n",
    "plt.xticks(index, range(5,50,5), fontsize=15, rotation=30)\n",
    "plt.title('Review Survey Length Analysis')\n",
    "plt.show()"
   ]
  },
  {
   "cell_type": "markdown",
   "metadata": {},
   "source": [
    "## We have a fair amount of both details reviews (having length >=5) and short reviews (having length <5)"
   ]
  },
  {
   "cell_type": "markdown",
   "metadata": {},
   "source": [
    "## Data Preprocessing\n",
    "\n",
    "![datapreprocessing](Photos/datapreprocessing.png)"
   ]
  },
  {
   "cell_type": "markdown",
   "metadata": {},
   "source": [
    "## Stage1: Language Detection"
   ]
  },
  {
   "cell_type": "code",
   "execution_count": 41,
   "metadata": {},
   "outputs": [
    {
     "name": "stdout",
     "output_type": "stream",
     "text": [
      "अच्छा है\n",
      "Language exception for: 😕🤔😕🤣😕🤣😢😨😔😭😃😁😣😨😁🤦‍♂️😨☺😣😔😨😛🤦‍♂️😢☺👍🙈😨😕😔😊😢😕😔🙈😨😣🤦‍♂️👍😁🤦‍♂️🙈😁🤦‍♂️😂😕😔😊😨👍😂😢👍😂🙈😢👍😂😭👍😂😭😕🙈👍😕😂☺😕😂😂😣😂😕👍😢😕🤦‍♂️😂😢🤔🙈😕🤦‍♂️🙈😢🤔😂🤦‍♂️🙈🤔😔😣😣👆🙈🤔😔😕😕😨🤣😔😕🙈😊😨😣😣🙈😊😕😂🤔😕😢🤔👍🤣😨😕😭😨😕😭😨😕😭😕👍😭😕😕🤣👍😁😭👍👍😭😕😣🙈😕😣😢😣😣😨😣😛😨😭😣😢😭😨😛😨🤣😢😨😂😊🤔😊🙈🙈🙈😭🐂🐎🐷🐎🐂🐈🐱🐮🦓🐱🐄🦌🦔🌹🥀⚘🌸🏵🌲🌷🌸⚘🌱🥔🍑🍓🍆🥝🍐🥑🥕🍆🍏🥝🍓🥔🥝🍆🥔🥑🥝🥝🥝🍒🥔🥑🥝🍏🍏🥑🥔🍐🍏🥑🥔🥔🥔🍆🍏🍏🍓🍇🥕🍏🍓🍏🍓🍏🥔🍐🍐🥔🍐🥔🥔🍐🥔🥑🍓🍏🍓🥝🍓🥑🍓🥑🍓🥑🥕🍐🥕🍏🍓🍇🍑🍈🥑🍇🥑🍏🍍🥑🍓🍏🍓🍇🍆🍎🥔🥝🍓🍐🍒🍇🍓🥑🍌🍏🍆🥝🍆🥝🍆🍏🍓🥑🍓🍎🍄🥝🍒🥥🍒🥝🥔🥦🍓🍆🍅🍏🥔🥝🥕🥑🍓🍏🥔🥝🥔🥝🍓🥘🥙🥘🌮🍕🌮🍕🌯🥘🥚🥩🥓🍖🌯🥘🍟🌭🥓🍳🥓🥪🥚🍖🍗🍕🥙🌭🍔🌭🍿🌭🥙🏌️‍♂️🥋🏓🎳🏓🏏🏓🥅🏌️‍♂️🥊🏌️‍♂️🎳⛳🏏⛳    🤼‍♀️🏍🤼‍♀️🤸‍♂️🤼‍♀️🤾‍♀️🤼‍♂️🏎🤹‍♂️🤺🤼‍♀️🏎🤼‍♂️       🎳🏸🥅🏸🥋🏌️‍♂️🎿🏚🏛🏝🏣🏙🌋🏜🏛🏝         🎙🎤🎶🎧📲🎤🎸📱🎙🎧🎷🎤🎸📻📲🎚🎧🎸🎼🎸📺📷📽📷📽📷📽🔬📽🔬📽🔬    🎸🥁🎙🎤🎚🎧🎸🥁🥁🎸🎤☎️🎸🎻🎸📱🎚🎤🎸🎤☎️🎧🎸🎤🎙🎤🎤☎️📻☎️🎧🎸🎸🎤🎤☎️🎤🎸🎤🎸🎤🎸🎧🎸🎸🎧🎧🎸🎸🎧🎸🎧📻🎸🎸🎧🎧🎸🎧🎸🎧🎸🎤🎸🎤☎️🎧\n",
      "साहब बहुत धाँसू गोली है साला मेरा घुटना ख़राब हो गया था और अब काफ़ी ठीक लग रहा है after taking calcium supplement\n"
     ]
    }
   ],
   "source": [
    "bad_reviews = []\n",
    "for indx in df.index:\n",
    "    review = df.at[indx, 'answer_option']\n",
    "    try:\n",
    "        b = rf.language_detection(review)\n",
    "        if b == 'hi' or b == 'mr':\n",
    "            bad_reviews.append(indx)\n",
    "            print(review)\n",
    "    except:\n",
    "        bad_reviews.append(indx)\n",
    "        print(\"Language exception for:\", review)"
   ]
  },
  {
   "cell_type": "code",
   "execution_count": 16,
   "metadata": {},
   "outputs": [
    {
     "name": "stdout",
     "output_type": "stream",
     "text": [
      "Number of Bad Reviews at Stage 1:  3\n"
     ]
    }
   ],
   "source": [
    "print(\"Number of Bad Reviews at Stage 1: \", len(bad_reviews))"
   ]
  },
  {
   "cell_type": "code",
   "execution_count": 23,
   "metadata": {},
   "outputs": [],
   "source": [
    "?df.at"
   ]
  },
  {
   "cell_type": "code",
   "execution_count": 17,
   "metadata": {},
   "outputs": [
    {
     "data": {
      "text/html": [
       "<div>\n",
       "<style scoped>\n",
       "    .dataframe tbody tr th:only-of-type {\n",
       "        vertical-align: middle;\n",
       "    }\n",
       "\n",
       "    .dataframe tbody tr th {\n",
       "        vertical-align: top;\n",
       "    }\n",
       "\n",
       "    .dataframe thead th {\n",
       "        text-align: right;\n",
       "    }\n",
       "</style>\n",
       "<table border=\"1\" class=\"dataframe\">\n",
       "  <thead>\n",
       "    <tr style=\"text-align: right;\">\n",
       "      <th></th>\n",
       "      <th>product</th>\n",
       "      <th>answer_option</th>\n",
       "      <th>label</th>\n",
       "      <th>review_len</th>\n",
       "    </tr>\n",
       "  </thead>\n",
       "  <tbody>\n",
       "    <tr>\n",
       "      <td>898</td>\n",
       "      <td>Neurobion</td>\n",
       "      <td>अच्छा है</td>\n",
       "      <td>0</td>\n",
       "      <td>2</td>\n",
       "    </tr>\n",
       "    <tr>\n",
       "      <td>1042</td>\n",
       "      <td>Neurobion</td>\n",
       "      <td>😕🤔😕🤣😕🤣😢😨😔😭😃😁😣😨😁🤦‍♂️😨☺😣😔😨😛🤦‍♂️😢☺👍🙈😨😕😔😊😢😕😔🙈😨😣🤦‍♂...</td>\n",
       "      <td>0</td>\n",
       "      <td>5</td>\n",
       "    </tr>\n",
       "    <tr>\n",
       "      <td>1110</td>\n",
       "      <td>Shelcal</td>\n",
       "      <td>साहब बहुत धाँसू गोली है साला मेरा घुटना ख़राब ...</td>\n",
       "      <td>0</td>\n",
       "      <td>23</td>\n",
       "    </tr>\n",
       "  </tbody>\n",
       "</table>\n",
       "</div>"
      ],
      "text/plain": [
       "        product                                      answer_option  label  \\\n",
       "898   Neurobion                                           अच्छा है      0   \n",
       "1042  Neurobion  😕🤔😕🤣😕🤣😢😨😔😭😃😁😣😨😁🤦‍♂️😨☺😣😔😨😛🤦‍♂️😢☺👍🙈😨😕😔😊😢😕😔🙈😨😣🤦‍♂...      0   \n",
       "1110    Shelcal  साहब बहुत धाँसू गोली है साला मेरा घुटना ख़राब ...      0   \n",
       "\n",
       "      review_len  \n",
       "898            2  \n",
       "1042           5  \n",
       "1110          23  "
      ]
     },
     "execution_count": 17,
     "metadata": {},
     "output_type": "execute_result"
    }
   ],
   "source": [
    "df[df.index.isin(bad_reviews)]"
   ]
  },
  {
   "cell_type": "code",
   "execution_count": 18,
   "metadata": {},
   "outputs": [],
   "source": [
    "df = df[~df.index.isin(bad_reviews)].reset_index(drop = True)"
   ]
  },
  {
   "cell_type": "markdown",
   "metadata": {},
   "source": [
    "## Stage 2: Gibberish Reviews\n",
    "+ When, we collect data from customers just out of frustation many reviews write gibberish reviews. \n",
    "+ Example: svfsfg, fsdfgdfgfsgsfgdgh, ffgrthyryj, rhrhfas, kuopip\n",
    "+ We need to detection such reviews and filter thoses out.\n",
    "\n",
    "#### Working\n",
    "You could build a model of character to character transitions from a bunch of text in English. So for example, you find out how common it is for there to be a 'h' after a 't' (pretty common). In English, you expect that after a 'q', you'll get a 'u'. If you get a 'q' followed by something other than a 'u', this will happen with very low probability, and hence it should be pretty alarming. Normalize the counts in your tables so that you have a probability. Then for a query, walk through the matrix and compute the product of the transitions you take. Then normalize by the length of the query. When the number is low, you likely have a gibberish query (or something in a different language).\n",
    "\n",
    "If you have a bunch of query logs, you might first make a model of general English text, and then heavily weight your own queries in that model training phase.\n",
    "\n",
    "For background, read about Markov Chains.\n",
    "\n",
    "Source: https://github.com/rrenaud/Gibberish-Detector\n",
    "\n",
    "> I have trained a model for and have stored it's pickle file."
   ]
  },
  {
   "cell_type": "code",
   "execution_count": 17,
   "metadata": {},
   "outputs": [],
   "source": [
    "bad_reviews = []\n",
    "for indx in df.index:\n",
    "    review = df.at[indx, 'answer_option']\n",
    "    if rf.gibberish_detection(review, prefix_path = 'utils'):\n",
    "        bad_reviews.append(indx)"
   ]
  },
  {
   "cell_type": "code",
   "execution_count": 18,
   "metadata": {},
   "outputs": [
    {
     "name": "stdout",
     "output_type": "stream",
     "text": [
      "Number of Bad Reviews at Stage 2:  8\n"
     ]
    }
   ],
   "source": [
    "print(\"Number of Bad Reviews at Stage 2: \", len(bad_reviews))"
   ]
  },
  {
   "cell_type": "code",
   "execution_count": 19,
   "metadata": {},
   "outputs": [
    {
     "data": {
      "text/plain": [
       "[3, 82, 362, 432, 1449, 1503, 1599, 1668]"
      ]
     },
     "execution_count": 19,
     "metadata": {},
     "output_type": "execute_result"
    }
   ],
   "source": [
    "bad_reviews"
   ]
  },
  {
   "cell_type": "code",
   "execution_count": 20,
   "metadata": {},
   "outputs": [
    {
     "data": {
      "text/html": [
       "<div>\n",
       "<style scoped>\n",
       "    .dataframe tbody tr th:only-of-type {\n",
       "        vertical-align: middle;\n",
       "    }\n",
       "\n",
       "    .dataframe tbody tr th {\n",
       "        vertical-align: top;\n",
       "    }\n",
       "\n",
       "    .dataframe thead th {\n",
       "        text-align: right;\n",
       "    }\n",
       "</style>\n",
       "<table border=\"1\" class=\"dataframe\">\n",
       "  <thead>\n",
       "    <tr style=\"text-align: right;\">\n",
       "      <th></th>\n",
       "      <th>product</th>\n",
       "      <th>answer_option</th>\n",
       "      <th>label</th>\n",
       "      <th>review_len</th>\n",
       "    </tr>\n",
       "  </thead>\n",
       "  <tbody>\n",
       "    <tr>\n",
       "      <th>3</th>\n",
       "      <td>Accucheck</td>\n",
       "      <td>fwegwrqdsdvwfg</td>\n",
       "      <td>0</td>\n",
       "      <td>1</td>\n",
       "    </tr>\n",
       "    <tr>\n",
       "      <th>82</th>\n",
       "      <td>Accucheck</td>\n",
       "      <td>qwerwetrjy</td>\n",
       "      <td>0</td>\n",
       "      <td>1</td>\n",
       "    </tr>\n",
       "    <tr>\n",
       "      <th>362</th>\n",
       "      <td>Neurobion</td>\n",
       "      <td>gehryetw</td>\n",
       "      <td>0</td>\n",
       "      <td>1</td>\n",
       "    </tr>\n",
       "    <tr>\n",
       "      <th>432</th>\n",
       "      <td>Shelcal</td>\n",
       "      <td>gehryetw</td>\n",
       "      <td>0</td>\n",
       "      <td>1</td>\n",
       "    </tr>\n",
       "    <tr>\n",
       "      <th>1449</th>\n",
       "      <td>Accucheck</td>\n",
       "      <td>ghyukuyujredfehrbv</td>\n",
       "      <td>0</td>\n",
       "      <td>1</td>\n",
       "    </tr>\n",
       "    <tr>\n",
       "      <th>1503</th>\n",
       "      <td>Accucheck</td>\n",
       "      <td>VVV. Good</td>\n",
       "      <td>0</td>\n",
       "      <td>2</td>\n",
       "    </tr>\n",
       "    <tr>\n",
       "      <th>1599</th>\n",
       "      <td>Accucheck</td>\n",
       "      <td>wqwasdbggn</td>\n",
       "      <td>0</td>\n",
       "      <td>1</td>\n",
       "    </tr>\n",
       "    <tr>\n",
       "      <th>1668</th>\n",
       "      <td>Accucheck</td>\n",
       "      <td>Ft GM</td>\n",
       "      <td>0</td>\n",
       "      <td>2</td>\n",
       "    </tr>\n",
       "  </tbody>\n",
       "</table>\n",
       "</div>"
      ],
      "text/plain": [
       "        product       answer_option  label  review_len\n",
       "3     Accucheck      fwegwrqdsdvwfg      0           1\n",
       "82    Accucheck          qwerwetrjy      0           1\n",
       "362   Neurobion            gehryetw      0           1\n",
       "432     Shelcal            gehryetw      0           1\n",
       "1449  Accucheck  ghyukuyujredfehrbv      0           1\n",
       "1503  Accucheck           VVV. Good      0           2\n",
       "1599  Accucheck          wqwasdbggn      0           1\n",
       "1668  Accucheck               Ft GM      0           2"
      ]
     },
     "execution_count": 20,
     "metadata": {},
     "output_type": "execute_result"
    }
   ],
   "source": [
    "df[df.index.isin(bad_reviews)]"
   ]
  },
  {
   "cell_type": "code",
   "execution_count": 21,
   "metadata": {},
   "outputs": [],
   "source": [
    "df = df[~df.index.isin(bad_reviews)].reset_index(drop = True)"
   ]
  },
  {
   "cell_type": "markdown",
   "metadata": {},
   "source": [
    "## Stage 3: Profanity Detection"
   ]
  },
  {
   "cell_type": "markdown",
   "metadata": {},
   "source": [
    "+ At times reviewers are not happy with the delivery or service out of frustration they type profanity words in reviews. \n",
    "+ Profanity content also penalises SEO ranking\n",
    "+ We decided to filter out both english and hinglish profanity reviews. \n",
    "\n"
   ]
  },
  {
   "cell_type": "code",
   "execution_count": 22,
   "metadata": {},
   "outputs": [],
   "source": [
    "bad_reviews = []\n",
    "for indx in df.index:\n",
    "    review = df.at[indx, 'answer_option']\n",
    "    if rf.english_swear_check(review) or rf.hindi_swear_check(review):\n",
    "        bad_reviews.append(indx)"
   ]
  },
  {
   "cell_type": "code",
   "execution_count": 23,
   "metadata": {},
   "outputs": [
    {
     "name": "stdout",
     "output_type": "stream",
     "text": [
      "Number of Bad Reviews at Stage 3:  3\n"
     ]
    }
   ],
   "source": [
    "print(\"Number of Bad Reviews at Stage 3: \", len(bad_reviews))"
   ]
  },
  {
   "cell_type": "code",
   "execution_count": 24,
   "metadata": {},
   "outputs": [
    {
     "data": {
      "text/html": [
       "<div>\n",
       "<style scoped>\n",
       "    .dataframe tbody tr th:only-of-type {\n",
       "        vertical-align: middle;\n",
       "    }\n",
       "\n",
       "    .dataframe tbody tr th {\n",
       "        vertical-align: top;\n",
       "    }\n",
       "\n",
       "    .dataframe thead th {\n",
       "        text-align: right;\n",
       "    }\n",
       "</style>\n",
       "<table border=\"1\" class=\"dataframe\">\n",
       "  <thead>\n",
       "    <tr style=\"text-align: right;\">\n",
       "      <th></th>\n",
       "      <th>product</th>\n",
       "      <th>answer_option</th>\n",
       "      <th>label</th>\n",
       "      <th>review_len</th>\n",
       "    </tr>\n",
       "  </thead>\n",
       "  <tbody>\n",
       "    <tr>\n",
       "      <th>140</th>\n",
       "      <td>shampoo</td>\n",
       "      <td>STOP SENDING ME SMS you assholes</td>\n",
       "      <td>0</td>\n",
       "      <td>6</td>\n",
       "    </tr>\n",
       "    <tr>\n",
       "      <th>1009</th>\n",
       "      <td>Neurobion</td>\n",
       "      <td>MotherFucker I dont want anything</td>\n",
       "      <td>1</td>\n",
       "      <td>5</td>\n",
       "    </tr>\n",
       "    <tr>\n",
       "      <th>1187</th>\n",
       "      <td>Shelcal</td>\n",
       "      <td>SHELLCALL IS TAKEN BYYOU WIFE, BECAUSE SHE HAS...</td>\n",
       "      <td>1</td>\n",
       "      <td>22</td>\n",
       "    </tr>\n",
       "  </tbody>\n",
       "</table>\n",
       "</div>"
      ],
      "text/plain": [
       "        product                                      answer_option  label  \\\n",
       "140     shampoo                   STOP SENDING ME SMS you assholes      0   \n",
       "1009  Neurobion                  MotherFucker I dont want anything      1   \n",
       "1187    Shelcal  SHELLCALL IS TAKEN BYYOU WIFE, BECAUSE SHE HAS...      1   \n",
       "\n",
       "      review_len  \n",
       "140            6  \n",
       "1009           5  \n",
       "1187          22  "
      ]
     },
     "execution_count": 24,
     "metadata": {},
     "output_type": "execute_result"
    }
   ],
   "source": [
    "df[df.index.isin(bad_reviews)]"
   ]
  },
  {
   "cell_type": "code",
   "execution_count": 25,
   "metadata": {},
   "outputs": [],
   "source": [
    "df = df[~df.index.isin(bad_reviews)].reset_index(drop = True)"
   ]
  },
  {
   "cell_type": "markdown",
   "metadata": {},
   "source": [
    "## Stage 4: Spelling Correction (Optional Stage not that necessary)\n",
    "+ Trying to improve quality of reviews which have high confidence spell errors. Like withut -> without"
   ]
  },
  {
   "cell_type": "code",
   "execution_count": 26,
   "metadata": {},
   "outputs": [],
   "source": [
    "for indx in df.index:\n",
    "    review = df.at[indx, 'answer_option']\n",
    "    df.at[indx, 'answer_option'] = rf.spell_correct(review, 0.9)"
   ]
  },
  {
   "cell_type": "markdown",
   "metadata": {},
   "source": [
    "## Stage 4.1: Company Tag (Optional Stage)"
   ]
  },
  {
   "cell_type": "code",
   "execution_count": 27,
   "metadata": {},
   "outputs": [],
   "source": [
    "bad_reviews = []\n",
    "for indx in df.index:\n",
    "    review = df.at[indx, 'answer_option']\n",
    "    if rf.competitive_brand_tag(review):\n",
    "        bad_reviews.append(indx)"
   ]
  },
  {
   "cell_type": "code",
   "execution_count": 28,
   "metadata": {},
   "outputs": [
    {
     "name": "stdout",
     "output_type": "stream",
     "text": [
      "Number of Bad Reviews at Stage 4.1:  7\n"
     ]
    }
   ],
   "source": [
    "print(\"Number of Bad Reviews at Stage 4.1: \", len(bad_reviews))"
   ]
  },
  {
   "cell_type": "code",
   "execution_count": 29,
   "metadata": {},
   "outputs": [
    {
     "data": {
      "text/html": [
       "<div>\n",
       "<style scoped>\n",
       "    .dataframe tbody tr th:only-of-type {\n",
       "        vertical-align: middle;\n",
       "    }\n",
       "\n",
       "    .dataframe tbody tr th {\n",
       "        vertical-align: top;\n",
       "    }\n",
       "\n",
       "    .dataframe thead th {\n",
       "        text-align: right;\n",
       "    }\n",
       "</style>\n",
       "<table border=\"1\" class=\"dataframe\">\n",
       "  <thead>\n",
       "    <tr style=\"text-align: right;\">\n",
       "      <th></th>\n",
       "      <th>product</th>\n",
       "      <th>answer_option</th>\n",
       "      <th>label</th>\n",
       "      <th>review_len</th>\n",
       "    </tr>\n",
       "  </thead>\n",
       "  <tbody>\n",
       "    <tr>\n",
       "      <th>33</th>\n",
       "      <td>Accucheck</td>\n",
       "      <td>amazon products are better</td>\n",
       "      <td>0</td>\n",
       "      <td>4</td>\n",
       "    </tr>\n",
       "    <tr>\n",
       "      <th>348</th>\n",
       "      <td>Neurobion</td>\n",
       "      <td>Almost no discount on OTC products Pharmeasy &amp;...</td>\n",
       "      <td>0</td>\n",
       "      <td>20</td>\n",
       "    </tr>\n",
       "    <tr>\n",
       "      <th>444</th>\n",
       "      <td>Shelcal</td>\n",
       "      <td>papal payment method was not working Product w...</td>\n",
       "      <td>0</td>\n",
       "      <td>9</td>\n",
       "    </tr>\n",
       "    <tr>\n",
       "      <th>615</th>\n",
       "      <td>SevenseascodLiverOil</td>\n",
       "      <td>Cheaper on amazon</td>\n",
       "      <td>0</td>\n",
       "      <td>3</td>\n",
       "    </tr>\n",
       "    <tr>\n",
       "      <th>941</th>\n",
       "      <td>Neurobion</td>\n",
       "      <td>Amazon has better quality for products</td>\n",
       "      <td>0</td>\n",
       "      <td>6</td>\n",
       "    </tr>\n",
       "    <tr>\n",
       "      <th>1057</th>\n",
       "      <td>Neurobion</td>\n",
       "      <td>Almost no discount on OTC products Pharmeasy &amp;...</td>\n",
       "      <td>0</td>\n",
       "      <td>20</td>\n",
       "    </tr>\n",
       "    <tr>\n",
       "      <th>1324</th>\n",
       "      <td>Shelcal</td>\n",
       "      <td>grofer is best</td>\n",
       "      <td>1</td>\n",
       "      <td>3</td>\n",
       "    </tr>\n",
       "  </tbody>\n",
       "</table>\n",
       "</div>"
      ],
      "text/plain": [
       "                   product                                      answer_option  \\\n",
       "33               Accucheck                         amazon products are better   \n",
       "348              Neurobion  Almost no discount on OTC products Pharmeasy &...   \n",
       "444                Shelcal  papal payment method was not working Product w...   \n",
       "615   SevenseascodLiverOil                                  Cheaper on amazon   \n",
       "941              Neurobion             Amazon has better quality for products   \n",
       "1057             Neurobion  Almost no discount on OTC products Pharmeasy &...   \n",
       "1324               Shelcal                                     grofer is best   \n",
       "\n",
       "      label  review_len  \n",
       "33        0           4  \n",
       "348       0          20  \n",
       "444       0           9  \n",
       "615       0           3  \n",
       "941       0           6  \n",
       "1057      0          20  \n",
       "1324      1           3  "
      ]
     },
     "execution_count": 29,
     "metadata": {},
     "output_type": "execute_result"
    }
   ],
   "source": [
    "df[df.index.isin(bad_reviews)]"
   ]
  },
  {
   "cell_type": "code",
   "execution_count": 30,
   "metadata": {},
   "outputs": [],
   "source": [
    "df = df[~df.index.isin(bad_reviews)].reset_index(drop = True)"
   ]
  },
  {
   "cell_type": "code",
   "execution_count": 31,
   "metadata": {},
   "outputs": [
    {
     "name": "stdout",
     "output_type": "stream",
     "text": [
      "Total Count of Reviews after preprocessing:  1655\n"
     ]
    }
   ],
   "source": [
    "print(\"Total Count of Reviews after preprocessing: \", len(df))"
   ]
  },
  {
   "cell_type": "code",
   "execution_count": 32,
   "metadata": {},
   "outputs": [],
   "source": [
    "df.to_csv('data/Preprocessed_Reviews.csv',index = False)"
   ]
  },
  {
   "cell_type": "markdown",
   "metadata": {},
   "source": [
    "# Summary\n",
    "+ So far, we have done EDA of Data.\n",
    "+ Preprocessing of reviews in 4 main stages. \n",
    "\n",
    "### Initial Count of Reviews was: 1676\n",
    "### Final Count of Reviews is: 1655\n",
    "\n",
    "+ We have to be strict with are preprocessing so that no bad content is shown on our website. \n",
    "+ By preprocessing we are reducing False positives. \n",
    "\n",
    "### Note: You may feel that only 21 reviews are scrapped but when you will be working on full scale then you will observed that about 7-10% of total reviews would be junk."
   ]
  }
 ],
 "metadata": {
  "kernelspec": {
   "display_name": "Python 3",
   "language": "python",
   "name": "python3"
  },
  "language_info": {
   "codemirror_mode": {
    "name": "ipython",
    "version": 3
   },
   "file_extension": ".py",
   "mimetype": "text/x-python",
   "name": "python",
   "nbconvert_exporter": "python",
   "pygments_lexer": "ipython3",
   "version": "3.8.3"
  }
 },
 "nbformat": 4,
 "nbformat_minor": 2
}
